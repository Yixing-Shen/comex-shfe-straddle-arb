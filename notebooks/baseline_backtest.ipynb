{
 "cells": [
  {
   "cell_type": "markdown",
   "id": "2a697560",
   "metadata": {},
   "source": [
    "# Baseline Backtest (Original Version)\n",
    "This notebook demonstrates the **raw IV-spread straddle arbitrage** without Kalman filtering.\n",
    "We compute rolling mean/std, generate entry/exit signals on z-score, and approximate PnL via\n",
    "mean-reversion of the spread deviation.\n"
   ]
  },
  {
   "cell_type": "code",
   "execution_count": null,
   "id": "72cf33b2",
   "metadata": {},
   "outputs": [],
   "source": [
    "\n",
    "import pandas as pd, numpy as np, matplotlib.pyplot as plt\n",
    "from pathlib import Path\n",
    "df = pd.read_csv('../data/iv_spread_sample.csv', parse_dates=['date']).set_index('date')\n",
    "s = df['iv_spread']\n",
    "print(df.head()); print(f\"Data points: {len(df)}\")\n"
   ]
  },
  {
   "cell_type": "code",
   "execution_count": null,
   "id": "676f246e",
   "metadata": {},
   "outputs": [],
   "source": [
    "\n",
    "def annualize_return(daily_returns, trading_days=252):\n",
    "    daily_returns = daily_returns.fillna(0.0)\n",
    "    cum = (1 + daily_returns).prod()\n",
    "    years = len(daily_returns) / trading_days\n",
    "    return cum**(1/years) - 1\n",
    "\n",
    "def sharpe_ratio(daily_returns, trading_days=252):\n",
    "    daily_returns = daily_returns.fillna(0.0)\n",
    "    mu = daily_returns.mean()\n",
    "    sigma = daily_returns.std(ddof=1)\n",
    "    return 0.0 if sigma==0 else (mu * trading_days) / (sigma * np.sqrt(trading_days))\n",
    "\n",
    "def max_drawdown(equity):\n",
    "    eq = equity.fillna(method=\"ffill\")\n",
    "    peak = eq.cummax()\n",
    "    dd = eq/peak - 1.0\n",
    "    return float(dd.min())\n"
   ]
  },
  {
   "cell_type": "code",
   "execution_count": null,
   "id": "944e58e7",
   "metadata": {},
   "outputs": [],
   "source": [
    "\n",
    "def baseline_backtest(series, window=126, entry_z=2.0, exit_z=0.5, max_hold=10,\n",
    "                      trade_cost_bp=8, slippage_bp=8, pnl_scale=0.003):\n",
    "    s = series.copy()\n",
    "    roll_mu = s.rolling(window).mean()\n",
    "    roll_sd = s.rolling(window).std().replace(0, np.nan)\n",
    "    z = (s - roll_mu) / roll_sd\n",
    "\n",
    "    position = 0; hold = 0\n",
    "    daily_pnl = pd.Series(0.0, index=s.index)\n",
    "    equity = pd.Series(1.0, index=s.index)\n",
    "    prev_dev = s.iloc[0] - (roll_mu.iloc[0] if not np.isnan(roll_mu.iloc[0]) else 0.0)\n",
    "\n",
    "    for i in range(1, len(s)):\n",
    "        if np.isnan(roll_sd.iloc[i]) or np.isnan(roll_mu.iloc[i]):\n",
    "            equity.iloc[i] = equity.iloc[i-1]\n",
    "            prev_dev = s.iloc[i] - (roll_mu.iloc[i] if not np.isnan(roll_mu.iloc[i]) else 0.0)\n",
    "            continue\n",
    "        dev = s.iloc[i] - roll_mu.iloc[i]\n",
    "        dev_prev = prev_dev\n",
    "\n",
    "        if position == 0:\n",
    "            if z.iloc[i] > entry_z:\n",
    "                position = +1; hold = 0\n",
    "                daily_pnl.iloc[i] -= (trade_cost_bp + slippage_bp)/1e4\n",
    "            elif z.iloc[i] < -entry_z:\n",
    "                position = -1; hold = 0\n",
    "                daily_pnl.iloc[i] -= (trade_cost_bp + slippage_bp)/1e4\n",
    "        else:\n",
    "            hold += 1\n",
    "            if abs(z.iloc[i]) <= exit_z or hold >= max_hold:\n",
    "                position = 0; hold = 0\n",
    "                daily_pnl.iloc[i] -= (trade_cost_bp + slippage_bp)/1e4\n",
    "\n",
    "        if position != 0:\n",
    "            daily_pnl.iloc[i] += position * (abs(dev_prev) - abs(dev)) * pnl_scale\n",
    "\n",
    "        equity.iloc[i] = equity.iloc[i-1] * (1 + daily_pnl.iloc[i])\n",
    "        prev_dev = dev\n",
    "\n",
    "    return {\"equity\": equity, \"daily_ret\": daily_pnl, \"z\": z}\n"
   ]
  },
  {
   "cell_type": "code",
   "execution_count": null,
   "id": "58f2c91e",
   "metadata": {},
   "outputs": [],
   "source": [
    "\n",
    "res = baseline_backtest(s)\n",
    "print(f\"Annualized Return: {annualize_return(res['daily_ret']):.2%}\")\n",
    "print(f\"Sharpe Ratio     : {sharpe_ratio(res['daily_ret']):.2f}\")\n",
    "print(f\"Max Drawdown     : {max_drawdown(res['equity']):.2%}\")\n"
   ]
  },
  {
   "cell_type": "code",
   "execution_count": null,
   "id": "e6e79409",
   "metadata": {},
   "outputs": [],
   "source": [
    "\n",
    "import matplotlib.pyplot as plt\n",
    "plt.figure(figsize=(9,4))\n",
    "plt.plot(res[\"equity\"].index, res[\"equity\"].values)\n",
    "plt.title(\"Baseline Strategy Equity Curve (Synthetic)\")\n",
    "plt.xlabel(\"Date\"); plt.ylabel(\"Equity\"); plt.tight_layout()\n",
    "plt.show()\n",
    "\n",
    "from pathlib import Path\n",
    "Path('../results').mkdir(exist_ok=True, parents=True)\n",
    "plt.figure(figsize=(9,4))\n",
    "plt.plot(res[\"equity\"].index, res[\"equity\"].values)\n",
    "plt.title(\"Baseline Strategy Equity Curve (Synthetic)\")\n",
    "plt.xlabel(\"Date\"); plt.ylabel(\"Equity\"); plt.tight_layout()\n",
    "plt.savefig('../results/baseline_equity.png', dpi=150)\n",
    "plt.close()\n"
   ]
  }
 ],
 "metadata": {},
 "nbformat": 4,
 "nbformat_minor": 5
}